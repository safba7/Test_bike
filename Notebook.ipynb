{
 "cells": [
  {
   "cell_type": "markdown",
   "id": "1d3f96ab-d826-4124-898b-90c70df134e8",
   "metadata": {},
   "source": [
    "#Proyek Analisis Data: Bike Sharing Dataset"
   ]
  },
  {
   "cell_type": "markdown",
   "id": "64830ddf-d648-49fb-950e-eaeaa0769687",
   "metadata": {},
   "source": [
    "Nama: Suryansyah Suciono"
   ]
  },
  {
   "cell_type": "markdown",
   "id": "549f5adb-70ca-48b7-a887-249ad4e9ec51",
   "metadata": {},
   "source": [
    "Email: sucionosuryansyah@gmail.com"
   ]
  },
  {
   "cell_type": "markdown",
   "id": "97b52cf5-f680-4a9e-930d-63c418e0a23b",
   "metadata": {},
   "source": [
    "Id Dicoding: suryansyahsuciono"
   ]
  },
  {
   "cell_type": "markdown",
   "id": "7c5aca2d-bac7-434e-af35-3b1ca8e5fc6e",
   "metadata": {},
   "source": [
    "#Menentukan Pertanyaan Bisnis"
   ]
  },
  {
   "cell_type": "markdown",
   "id": "3b9ebbd0-5de1-4a22-895f-1c1d2c844e32",
   "metadata": {},
   "source": [
    "pertanyaan 1: Bagaimana performa total transaksi berdasarkan bulan dan musim?"
   ]
  },
  {
   "cell_type": "markdown",
   "id": "423af657-d04f-4ca6-be39-c44aff16f8c8",
   "metadata": {},
   "source": [
    "pertanyaan 2: top 5 performa terbaik dan terburuk total transaksi berdasarkan jam serta tren perbandingan antara casual dan registered berdasarkan jam?"
   ]
  },
  {
   "cell_type": "markdown",
   "id": "7ad464f9-db84-4598-9ace-a4acbfebe2d6",
   "metadata": {},
   "source": [
    "#Menyiapkan semua library yang dibutuhkan"
   ]
  },
  {
   "cell_type": "code",
   "execution_count": null,
   "id": "76d71c9a-80a8-49bc-b24e-43a002b7e186",
   "metadata": {},
   "outputs": [],
   "source": [
    "import numpy as np\n",
    "import pandas as pd\n",
    "import matplotlib.pyplot as plt\n",
    "import seaborn as sns\n",
    "import scipy.stats as stats\n",
    "import json"
   ]
  },
  {
   "cell_type": "markdown",
   "id": "1a1ab6a3-c35f-4ece-8675-c13860b2d388",
   "metadata": {},
   "source": [
    "#Data Wrangling"
   ]
  },
  {
   "cell_type": "markdown",
   "id": "b38af088-7cde-4e7b-bf7f-4a4a2cb82fdb",
   "metadata": {},
   "source": [
    "##Gathering Data"
   ]
  },
  {
   "cell_type": "code",
   "execution_count": null,
   "id": "088985eb-36b4-4063-a44d-ac6d9916fe1d",
   "metadata": {},
   "outputs": [],
   "source": [
    "hour_df = pd.read_csv('E:/data analytics/python/Bike-sharing-dataset/hour.csv')"
   ]
  },
  {
   "cell_type": "code",
   "execution_count": null,
   "id": "efb8102e-d5db-457d-b262-29cf38f0f927",
   "metadata": {},
   "outputs": [],
   "source": [
    "day_df = pd.read_csv('E:/data analytics/python/Bike-sharing-dataset/day.csv')"
   ]
  },
  {
   "cell_type": "markdown",
   "id": "c71f8916-1ab0-470c-a20a-26a6fdc916fa",
   "metadata": {},
   "source": [
    "##Assessing Data"
   ]
  },
  {
   "cell_type": "markdown",
   "id": "ff0d5df3-a1a0-498a-8d4b-68c75e3e1a69",
   "metadata": {},
   "source": [
    "###Menilai tabel hour_df"
   ]
  },
  {
   "cell_type": "code",
   "execution_count": null,
   "id": "acf0aa34-4670-4852-a069-fb2b949c68fc",
   "metadata": {},
   "outputs": [],
   "source": [
    "hour_df.head()"
   ]
  },
  {
   "cell_type": "code",
   "execution_count": null,
   "id": "2fa7f5da-7244-4456-9613-7b7c3de4b741",
   "metadata": {},
   "outputs": [],
   "source": [
    "hour_df.info()"
   ]
  },
  {
   "cell_type": "code",
   "execution_count": null,
   "id": "fafbdf90-c969-46a7-a92d-e1ca4c9d941b",
   "metadata": {},
   "outputs": [],
   "source": [
    "print(\"Jumlah duplikasi: \", hour_df.duplicated().sum())"
   ]
  },
  {
   "cell_type": "code",
   "execution_count": null,
   "id": "a325d027-1940-4685-b0b8-c5872821a1ce",
   "metadata": {},
   "outputs": [],
   "source": [
    "hour_df.describe()"
   ]
  },
  {
   "cell_type": "markdown",
   "id": "35df949b-4797-4bed-afe4-45df9661a27a",
   "metadata": {},
   "source": [
    "###menilai tabel day_df"
   ]
  },
  {
   "cell_type": "code",
   "execution_count": null,
   "id": "87038452-dc6c-40d4-b67e-46c02d3a910f",
   "metadata": {},
   "outputs": [],
   "source": [
    "day_df.head()"
   ]
  },
  {
   "cell_type": "code",
   "execution_count": null,
   "id": "7ed0c287-910a-459c-84c8-5800fd96bb9e",
   "metadata": {},
   "outputs": [],
   "source": [
    "day_df.info()"
   ]
  },
  {
   "cell_type": "code",
   "execution_count": null,
   "id": "5119a5db-88f3-4dd1-ae08-917d78342680",
   "metadata": {},
   "outputs": [],
   "source": [
    "print(\"Jumlah duplikasi: \", day_df.duplicated().sum())"
   ]
  },
  {
   "cell_type": "code",
   "execution_count": null,
   "id": "a78dbeb0-78b8-46ac-ac0d-17d8586fc61e",
   "metadata": {},
   "outputs": [],
   "source": [
    "day_df.describe()"
   ]
  },
  {
   "cell_type": "markdown",
   "id": "ee3650ea-5faa-4ac5-b649-96bc70432f11",
   "metadata": {},
   "source": [
    "##Cleaning Data"
   ]
  },
  {
   "cell_type": "code",
   "execution_count": null,
   "id": "989a0171-233f-48bb-b4d7-9412057ee487",
   "metadata": {},
   "outputs": [],
   "source": [
    "datetime_columns = [\"dteday\"]\n",
    "\n",
    "for column in datetime_columns:\n",
    "  hour_df[column] = pd.to_datetime(hour_df[column])"
   ]
  },
  {
   "cell_type": "code",
   "execution_count": null,
   "id": "1564685a-7660-4eec-bded-32736b657bee",
   "metadata": {},
   "outputs": [],
   "source": [
    "datetime_columns = [\"dteday\"]\n",
    "\n",
    "for column in datetime_columns:\n",
    "  day_df[column] = pd.to_datetime(day_df[column])"
   ]
  },
  {
   "cell_type": "markdown",
   "id": "04b054d5-eb2c-49b2-8306-dbceb6e374ca",
   "metadata": {},
   "source": [
    "#Exploratory Data Analysis (EDA)"
   ]
  },
  {
   "cell_type": "markdown",
   "id": "8f09c02b-e6f6-4011-aaef-97d76074acff",
   "metadata": {},
   "source": [
    "##Explore hour_df"
   ]
  },
  {
   "cell_type": "code",
   "execution_count": null,
   "id": "e59c6a32-09fc-46d3-a628-4dc18315c014",
   "metadata": {},
   "outputs": [],
   "source": [
    "hour_df.sample(5)"
   ]
  },
  {
   "cell_type": "code",
   "execution_count": null,
   "id": "6a62d51c-0050-4476-b31c-8f1ea5c7856d",
   "metadata": {},
   "outputs": [],
   "source": [
    "hour_df.describe(include=\"all\")"
   ]
  },
  {
   "cell_type": "code",
   "execution_count": null,
   "id": "85c2c7f9-a4b5-4687-8a37-6eab833aa664",
   "metadata": {},
   "outputs": [],
   "source": [
    "hour_df.groupby(by=[\"hr\", \"weekday\"]).agg({\n",
    "    \"instant\": \"nunique\",\n",
    "    \"casual\": \"sum\",\n",
    "    \"registered\": \"sum\",\n",
    "    \"cnt\": \"sum\"\n",
    "}).sort_values(by=\"cnt\", ascending=False)"
   ]
  },
  {
   "cell_type": "markdown",
   "id": "cfb49462-cd60-431c-91d7-1a7721b9735c",
   "metadata": {},
   "source": [
    "##Explore day_df"
   ]
  },
  {
   "cell_type": "code",
   "execution_count": null,
   "id": "296e6653-0093-456b-8dac-4bdae555069d",
   "metadata": {},
   "outputs": [],
   "source": [
    "day_df.sample(5)"
   ]
  },
  {
   "cell_type": "code",
   "execution_count": null,
   "id": "91f0b839-b23e-41d4-a486-84a9a929512b",
   "metadata": {},
   "outputs": [],
   "source": [
    "day_df.describe(include=\"all\")"
   ]
  },
  {
   "cell_type": "code",
   "execution_count": null,
   "id": "546d31ad-7722-402c-b1f9-16854a6ba4fd",
   "metadata": {},
   "outputs": [],
   "source": [
    "day_df.groupby(by=\"workingday\").agg({\n",
    "    \"instant\": \"nunique\",\n",
    "    \"casual\": \"sum\",\n",
    "    \"registered\": \"sum\",\n",
    "    \"cnt\": \"sum\"\n",
    "}).sort_values(by=\"cnt\", ascending=False)"
   ]
  },
  {
   "cell_type": "markdown",
   "id": "7e0c08af-63a5-447f-a4b8-da5eb34abb23",
   "metadata": {},
   "source": [
    "#Visualization & Explanatory Analysis"
   ]
  },
  {
   "cell_type": "markdown",
   "id": "f3bb9320-f0b5-42d3-8056-acac87bf5335",
   "metadata": {},
   "source": [
    "##Bagaimana performa total transaksi berdasarkan bulan dan musim?"
   ]
  },
  {
   "cell_type": "code",
   "execution_count": null,
   "id": "050a55ca-cd45-44da-a301-84493c6f88bb",
   "metadata": {},
   "outputs": [],
   "source": [
    "sum_season_cnt_df = day_df.groupby(\"season\").cnt.sum().sort_values(ascending=False).reset_index()\n",
    "sum_season_cnt_df.head(5)"
   ]
  },
  {
   "cell_type": "code",
   "execution_count": null,
   "id": "791b52ab-c92c-4d7e-8c7a-fb14bf227695",
   "metadata": {},
   "outputs": [],
   "source": [
    "plt.figure(figsize=(10, 5))\n",
    "sns.barplot(\n",
    "    y=\"cnt\", \n",
    "    x=\"season\",\n",
    "    data=sum_season_cnt_df,\n",
    "    order=sum_season_cnt_df.sort_values(by=\"cnt\", ascending=False)[\"season\"],\n",
    "    palette=colors_\n",
    ")\n",
    "plt.title(\"Count of Total by Season\", loc=\"center\", fontsize=15)\n",
    "plt.ylabel(None)\n",
    "plt.xlabel(None)\n",
    "plt.tick_params(axis='x', labelsize=12)\n",
    "plt.show()"
   ]
  },
  {
   "cell_type": "code",
   "execution_count": null,
   "id": "139145cb-4343-412c-9180-47ef23a88e5a",
   "metadata": {},
   "outputs": [],
   "source": [
    "sum_mnth_cnt_df = day_df.groupby(\"mnth\").cnt.sum().sort_values(ascending=False).reset_index()\n",
    "sum_mnth_cnt_df.head(12)"
   ]
  },
  {
   "cell_type": "code",
   "execution_count": null,
   "id": "8e56a338-077a-4eeb-8e73-d0d61145e63c",
   "metadata": {},
   "outputs": [],
   "source": [
    "plt.figure(figsize=(10, 5))\n",
    "colors_ = [\"#72BCD4\", \"#D3D3D3\", \"#D3D3D3\", \"#D3D3D3\", \"#D3D3D3\", \"#D3D3D3\", \"#D3D3D3\", \"#D3D3D3\", \"#D3D3D3\", \"#D3D3D3\", \"#D3D3D3\", \"#D3D3D3\"]\n",
    "sns.barplot(\n",
    "    x=\"mnth\", \n",
    "    y=\"cnt\",\n",
    "    data=sum_mnth_cnt_df,\n",
    "    order=sum_mnth_cnt_df.sort_values(by=\"cnt\", ascending=False)[\"mnth\"],\n",
    "    palette=colors_\n",
    ")\n",
    "plt.title(\"Count of Total by Month\", loc=\"center\", fontsize=15)\n",
    "plt.ylabel(None)\n",
    "plt.xlabel(None)\n",
    "plt.tick_params(axis='y', labelsize=12)\n",
    "plt.show()"
   ]
  },
  {
   "cell_type": "markdown",
   "id": "ed235966-14de-4bce-b44c-5fd26f2845c2",
   "metadata": {},
   "source": [
    "##top 5 performa terbaik dan terburuk total transaksi berdasarkan jam serta tren perbandingan antara casual dan registered berdasarkan jam?"
   ]
  },
  {
   "cell_type": "code",
   "execution_count": null,
   "id": "45b39fff-c70d-4c59-8c86-b1d0514a46cb",
   "metadata": {},
   "outputs": [],
   "source": [
    "sum_hr_cnt_df = hour_df.groupby(\"hr\").cnt.sum().sort_values(ascending=False).reset_index()\n",
    "sum_hr_cnt_df.head(24)"
   ]
  },
  {
   "cell_type": "code",
   "execution_count": null,
   "id": "23b98d5b-3ff4-4a53-9c47-b9dd8f838dd9",
   "metadata": {},
   "outputs": [],
   "source": [
    "fig, ax = plt.subplots(nrows=1, ncols=2, figsize=(24, 6))\n",
    "colors = [\"#72BCD4\", \"#D3D3D3\", \"#D3D3D3\", \"#D3D3D3\", \"#D3D3D3\"]\n",
    "\n",
    "sns.barplot(x=\"hr\", y=\"cnt\", data=sum_hr_cnt_df,\n",
    "            order=sum_hr_cnt_df.sort_values(by=\"cnt\", ascending=False)[\"hr\"].head(5), palette=colors, ax=ax[0])\n",
    "ax[0].set_ylabel(None)\n",
    "ax[0].set_xlabel(None)\n",
    "ax[0].set_title(\"Top Performing Hour\", loc=\"center\", fontsize=18)\n",
    "ax[0].tick_params(axis ='y', labelsize=15)\n",
    "\n",
    "sns.barplot(x=\"hr\", y=\"cnt\", data=sum_hr_cnt_df,\n",
    "            order=sum_hr_cnt_df.sort_values(by=\"cnt\", ascending=True)[\"hr\"].head(5), palette=colors, ax=ax[1])\n",
    "ax[1].set_ylabel(None)\n",
    "ax[1].set_xlabel(None)\n",
    "ax[1].set_title(\"Worst Performing Hour\", loc=\"center\", fontsize=18)\n",
    "ax[1].tick_params(axis='y', labelsize=15)\n",
    "plt.suptitle(\"Top and Worst Performing Hour by Count of Total\", fontsize=20)\n",
    "plt.show()"
   ]
  },
  {
   "cell_type": "code",
   "execution_count": null,
   "id": "53545c84-5f06-4e89-bb10-91e3e4dc32b5",
   "metadata": {},
   "outputs": [],
   "source": [
    "sum_hr_casreg_df = hour_df.groupby(\"hr\").agg({\n",
    "    \"casual\": \"sum\",\n",
    "    \"registered\": \"sum\"\n",
    "}).reset_index()\n",
    "sum_hr_casreg_df.head(24)"
   ]
  },
  {
   "cell_type": "code",
   "execution_count": null,
   "id": "699c41e8-23ba-45dd-9bdb-c1f8f997b0df",
   "metadata": {},
   "outputs": [],
   "source": [
    "plt.figure(figsize=(10, 5))\n",
    "plt.plot(\n",
    "    sum_hr_casreg_df[\"hr\"],\n",
    "    sum_hr_casreg_df[\"casual\"],\n",
    "    marker='o', \n",
    "    linewidth=2,\n",
    "    color=\"#FFA500\"\n",
    ")\n",
    "plt.plot(\n",
    "    sum_hr_casreg_df[\"hr\"],\n",
    "    sum_hr_casreg_df[\"registered\"],\n",
    "    marker='o', \n",
    "    linewidth=2,\n",
    "    color=\"#008000\"\n",
    ")\n",
    "plt.title(\"Comparison of Casual and Registered per Hour (2011-2012)\", loc=\"center\", fontsize=20)\n",
    "plt.xticks(fontsize=10)\n",
    "plt.yticks(fontsize=10)\n",
    "plt.show()"
   ]
  },
  {
   "cell_type": "markdown",
   "id": "d1c4aa6c-43d8-4d37-9fd7-fbbc201f49e5",
   "metadata": {},
   "source": [
    "#Conclusion"
   ]
  },
  {
   "cell_type": "markdown",
   "id": "0cbc00a2-f003-42e4-9bd2-8cb4c77186a4",
   "metadata": {},
   "source": [
    "##pertanyaan 1:"
   ]
  },
  {
   "cell_type": "markdown",
   "id": "4b1e3a05-8112-4c1e-9ba7-dc17980378fb",
   "metadata": {},
   "source": [
    "- bisa disimpulkan bahwa performa total transaksi berdasarkan musim yaitu dimana musim ke 3(autumn) memiliki performa tertinggi sedangkan musim ke 1(spring) memiliki performa terendah\n",
    "- untuk total transaksi berdasarkan bulan yaitu dimana bulan ke 8 memiliki performa terbaik sedangkan bulan ke 1 memiliki performa terendah"
   ]
  },
  {
   "cell_type": "markdown",
   "id": "6367b487-31bb-4e2c-a304-380669ce1d8c",
   "metadata": {},
   "source": [
    "##pertanyaan 2:"
   ]
  },
  {
   "cell_type": "markdown",
   "id": "acc8d8a5-d045-4b2c-9c7b-c9f958f38c81",
   "metadata": {},
   "source": [
    "- top 5 terbaik diurutkan dari jam 17, 18, 8, 16, 19 dan top 5 terburuk diurutkan dari jam 4, 3, 5, 2, 1\n",
    "- dapat dilihat bahwa jumlah dari registered terdapat peningkatan tinggi dari rentang jam 6-8 dan 15-17 dan sedangkan untuk casual terjadi peningkatan dari jam 7 - 13"
   ]
  }
 ],
 "metadata": {
  "kernelspec": {
   "display_name": "Python 3 (ipykernel)",
   "language": "python",
   "name": "python3"
  },
  "language_info": {
   "codemirror_mode": {
    "name": "ipython",
    "version": 3
   },
   "file_extension": ".py",
   "mimetype": "text/x-python",
   "name": "python",
   "nbconvert_exporter": "python",
   "pygments_lexer": "ipython3",
   "version": "3.11.5"
  }
 },
 "nbformat": 4,
 "nbformat_minor": 5
}
